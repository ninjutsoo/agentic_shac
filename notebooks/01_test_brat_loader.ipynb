{
  "cells": [
    {
      "cell_type": "markdown",
      "metadata": {},
      "source": [
        "# Test Notebook 01: BRAT Loader\n",
        "\n",
        "**Purpose**: Validate BRAT parsing on sample files\n",
        "\n",
        "**Tests**:\n",
        "1. Load 2-3 sample `.txt`/`.ann` files from each split\n",
        "2. Display raw BRAT annotations\n",
        "3. Show parsed output (id, text, trigger, label)\n",
        "4. Verify label distribution\n",
        "5. Check for parsing errors\n"
      ]
    },
    {
      "cell_type": "code",
      "execution_count": null,
      "metadata": {},
      "outputs": [],
      "source": [
        "import sys\n",
        "sys.path.append('..')\n",
        "\n",
        "from pathlib import Path\n",
        "from src.utils.brat_loader import BRATLoader, load_shac_data\n",
        "import yaml\n",
        "from collections import Counter\n",
        "import pandas as pd\n"
      ]
    },
    {
      "cell_type": "markdown",
      "metadata": {},
      "source": [
        "## 1. Load Configuration\n"
      ]
    },
    {
      "cell_type": "code",
      "execution_count": null,
      "metadata": {},
      "outputs": [],
      "source": [
        "# Load config\n",
        "with open('../configs/data.yaml', 'r') as f:\n",
        "    config = yaml.safe_load(f)\n",
        "\n",
        "print(\"Configuration:\")\n",
        "print(f\"  Data root: {config['raw_root']}\")\n",
        "print(f\"  Sources: {config['sources']}\")\n",
        "print(f\"  Splits: {config['splits']}\")\n",
        "print(f\"  Target event: {config['target_event']}\")\n",
        "print(f\"  Status labels: {config['status_labels']}\")\n"
      ]
    },
    {
      "cell_type": "markdown",
      "metadata": {},
      "source": [
        "## 2. Test on Sample File\n",
        "\n",
        "Load one sample to see raw annotations and parsed output\n"
      ]
    },
    {
      "cell_type": "code",
      "execution_count": null,
      "metadata": {},
      "outputs": [],
      "source": [
        "# Test single file parsing\n",
        "sample_txt = Path(config['raw_root']) / 'train' / 'mimic' / '0101.txt'\n",
        "sample_ann = sample_txt.with_suffix('.ann')\n",
        "\n",
        "print(f\"Reading: {sample_txt}\\n\")\n",
        "\n",
        "# Display raw text\n",
        "with open(sample_txt, 'r') as f:\n",
        "    text = f.read()\n",
        "    print(\"=\" * 80)\n",
        "    print(\"RAW TEXT:\")\n",
        "    print(\"=\" * 80)\n",
        "    print(text)\n",
        "    print(\"=\" * 80)\n",
        "\n",
        "# Display raw annotations\n",
        "print(\"\\nRAW ANNOTATIONS:\")\n",
        "print(\"=\" * 80)\n",
        "with open(sample_ann, 'r') as f:\n",
        "    for line in f:\n",
        "        line = line.strip()\n",
        "        if line.startswith('E') and 'Drug' in line:\n",
        "            print(line)\n",
        "        elif line.startswith('A') and 'StatusTimeVal' in line:\n",
        "            print(line)\n",
        "        elif line.startswith('T') and ('Drug' in line or 'StatusTime' in line):\n",
        "            print(line)\n",
        "print(\"=\" * 80)\n"
      ]
    },
    {
      "cell_type": "code",
      "execution_count": null,
      "metadata": {},
      "outputs": [],
      "source": [
        "# Parse and extract Drug events\n",
        "loader = BRATLoader(target_event=\"Drug\")\n",
        "ann_data = loader.parse_ann_file(sample_ann)\n",
        "\n",
        "events = loader.extract_drug_events(\n",
        "    ann_data=ann_data,\n",
        "    text=text,\n",
        "    note_id='0101',\n",
        "    source='mimic',\n",
        "    split='train'\n",
        ")\n",
        "\n",
        "print(\"\\nEXTRACTED DRUG EVENTS:\")\n",
        "print(\"=\" * 80)\n",
        "for event in events:\n",
        "    print(f\"ID: {event['id']}\")\n",
        "    print(f\"  Trigger: '{event['trigger_text']}'\")\n",
        "    print(f\"  Status Label: {event['status_label']}\")\n",
        "    print(f\"  Source: {event['source']}\")\n",
        "    print(f\"  Split: {event['split']}\")\n",
        "    print(f\"  Text length: {len(event['text'])} chars\")\n",
        "    print()\n"
      ]
    },
    {
      "cell_type": "markdown",
      "metadata": {},
      "source": [
        "## 3. Test on Multiple Files\n",
        "\n",
        "Load 5 samples from each source and verify\n"
      ]
    },
    {
      "cell_type": "code",
      "execution_count": null,
      "metadata": {},
      "outputs": [],
      "source": [
        "# Load first 5 files from each source\n",
        "sample_events = []\n",
        "\n",
        "for source in ['mimic', 'uw']:\n",
        "    dir_path = Path(config['raw_root']) / 'train' / source\n",
        "    txt_files = sorted(dir_path.glob('*.txt'))[:5]\n",
        "    \n",
        "    print(f\"\\nProcessing {source}: {len(txt_files)} files\")\n",
        "    \n",
        "    for txt_file in txt_files:\n",
        "        ann_file = txt_file.with_suffix('.ann')\n",
        "        \n",
        "        with open(txt_file, 'r') as f:\n",
        "            text = f.read()\n",
        "        \n",
        "        ann_data = loader.parse_ann_file(ann_file)\n",
        "        events = loader.extract_drug_events(\n",
        "            ann_data=ann_data,\n",
        "            text=text,\n",
        "            note_id=txt_file.stem,\n",
        "            source=source,\n",
        "            split='train'\n",
        "        )\n",
        "        sample_events.extend(events)\n",
        "        print(f\"  {txt_file.stem}: {len(events)} Drug events\")\n",
        "\n",
        "print(f\"\\n✅ Total Drug events extracted: {len(sample_events)}\")\n",
        "\n",
        "# Convert to DataFrame\n",
        "df = pd.DataFrame(sample_events)\n",
        "\n",
        "# Show label distribution\n",
        "print(\"\\nLabel Distribution:\")\n",
        "for label, count in df['status_label'].value_counts().items():\n",
        "    print(f\"  {label}: {count} ({100*count/len(df):.1f}%)\")\n",
        "\n",
        "# Show source distribution  \n",
        "print(\"\\nSource Distribution:\")\n",
        "for source, count in df['source'].value_counts().items():\n",
        "    print(f\"  {source}: {count} ({100*count/len(df):.1f}%)\")\n",
        "\n",
        "# Show sample\n",
        "print(\"\\nSample events:\")\n",
        "df[['id', 'source', 'trigger_text', 'status_label']].head(10)\n"
      ]
    },
    {
      "cell_type": "markdown",
      "metadata": {},
      "source": [
        "## ✅ Validation Checklist\n",
        "\n",
        "**Check before proceeding to Phase 2:**\n",
        "\n",
        "- BRAT loader successfully parses sample files\n",
        "- All Drug events extracted with correct StatusTime labels\n",
        "- Trigger text extracted correctly\n",
        "- Source (mimic/uw) tracked correctly\n",
        "- No missing IDs, triggers, or labels\n",
        "- Label values match expected: none, current, past, Not Applicable\n",
        "- Both MIMIC and UW samples processed\n",
        "\n",
        "If all checks pass, proceed to implementing preprocessing!\n"
      ]
    }
  ],
  "metadata": {
    "language_info": {
      "name": "python"
    }
  },
  "nbformat": 4,
  "nbformat_minor": 2
}
